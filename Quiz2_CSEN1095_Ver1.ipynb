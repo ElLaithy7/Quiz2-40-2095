{
  "nbformat": 4,
  "nbformat_minor": 0,
  "metadata": {
    "colab": {
      "name": "Quiz2_CSEN1095_Ver1.ipynb",
      "provenance": [],
      "collapsed_sections": []
    },
    "kernelspec": {
      "name": "python3",
      "display_name": "Python 3"
    }
  },
  "cells": [
    {
      "cell_type": "markdown",
      "metadata": {
        "id": "Yma7CbRC8dOa"
      },
      "source": [
        "#**Question 1:**\r\n",
        "\r\n",
        "Merge the below dataset using the `join` function. Note that by default `join` does a Left join.\r\n",
        "\r\n",
        "1. https://raw.githubusercontent.com/shanealynn/Pandas-Merge-Tutorial/master/user_device.csv\r\n",
        "2. https://raw.githubusercontent.com/shanealynn/Pandas-Merge-Tutorial/master/user_usage.csv \r\n"
      ]
    },
    {
      "cell_type": "code",
      "metadata": {
        "id": "Ylu6oXthgvk8"
      },
      "source": [
        "import pandas as pd\r\n",
        "import numpy as np\r\n",
        "\r\n",
        "userDev = pd.read_csv(\"https://raw.githubusercontent.com/shanealynn/Pandas-Merge-Tutorial/master/user_device.csv\")\r\n",
        "userUs = pd.read_csv(\"https://raw.githubusercontent.com/shanealynn/Pandas-Merge-Tutorial/master/user_usage.csv\")"
      ],
      "execution_count": 9,
      "outputs": []
    },
    {
      "cell_type": "code",
      "metadata": {
        "colab": {
          "base_uri": "https://localhost:8080/",
          "height": 446
        },
        "id": "Yrx8NUYh6ZCh",
        "outputId": "4f6ee529-d2ae-4c0c-a892-e0bf3b4afed1"
      },
      "source": [
        "merged=userUs.set_index('use_id').join(userDev.set_index('use_id'),how='inner')\r\n",
        "merged"
      ],
      "execution_count": 10,
      "outputs": [
        {
          "output_type": "execute_result",
          "data": {
            "text/html": [
              "<div>\n",
              "<style scoped>\n",
              "    .dataframe tbody tr th:only-of-type {\n",
              "        vertical-align: middle;\n",
              "    }\n",
              "\n",
              "    .dataframe tbody tr th {\n",
              "        vertical-align: top;\n",
              "    }\n",
              "\n",
              "    .dataframe thead th {\n",
              "        text-align: right;\n",
              "    }\n",
              "</style>\n",
              "<table border=\"1\" class=\"dataframe\">\n",
              "  <thead>\n",
              "    <tr style=\"text-align: right;\">\n",
              "      <th></th>\n",
              "      <th>outgoing_mins_per_month</th>\n",
              "      <th>outgoing_sms_per_month</th>\n",
              "      <th>monthly_mb</th>\n",
              "      <th>user_id</th>\n",
              "      <th>platform</th>\n",
              "      <th>platform_version</th>\n",
              "      <th>device</th>\n",
              "      <th>use_type_id</th>\n",
              "    </tr>\n",
              "    <tr>\n",
              "      <th>use_id</th>\n",
              "      <th></th>\n",
              "      <th></th>\n",
              "      <th></th>\n",
              "      <th></th>\n",
              "      <th></th>\n",
              "      <th></th>\n",
              "      <th></th>\n",
              "      <th></th>\n",
              "    </tr>\n",
              "  </thead>\n",
              "  <tbody>\n",
              "    <tr>\n",
              "      <th>22787</th>\n",
              "      <td>21.97</td>\n",
              "      <td>4.82</td>\n",
              "      <td>1557.33</td>\n",
              "      <td>12921</td>\n",
              "      <td>android</td>\n",
              "      <td>4.3</td>\n",
              "      <td>GT-I9505</td>\n",
              "      <td>1</td>\n",
              "    </tr>\n",
              "    <tr>\n",
              "      <th>22788</th>\n",
              "      <td>1710.08</td>\n",
              "      <td>136.88</td>\n",
              "      <td>7267.55</td>\n",
              "      <td>28714</td>\n",
              "      <td>android</td>\n",
              "      <td>6.0</td>\n",
              "      <td>SM-G930F</td>\n",
              "      <td>1</td>\n",
              "    </tr>\n",
              "    <tr>\n",
              "      <th>22789</th>\n",
              "      <td>1710.08</td>\n",
              "      <td>136.88</td>\n",
              "      <td>7267.55</td>\n",
              "      <td>28714</td>\n",
              "      <td>android</td>\n",
              "      <td>6.0</td>\n",
              "      <td>SM-G930F</td>\n",
              "      <td>1</td>\n",
              "    </tr>\n",
              "    <tr>\n",
              "      <th>22790</th>\n",
              "      <td>94.46</td>\n",
              "      <td>35.17</td>\n",
              "      <td>519.12</td>\n",
              "      <td>29592</td>\n",
              "      <td>android</td>\n",
              "      <td>5.1</td>\n",
              "      <td>D2303</td>\n",
              "      <td>1</td>\n",
              "    </tr>\n",
              "    <tr>\n",
              "      <th>22792</th>\n",
              "      <td>71.59</td>\n",
              "      <td>79.26</td>\n",
              "      <td>1557.33</td>\n",
              "      <td>28217</td>\n",
              "      <td>android</td>\n",
              "      <td>5.1</td>\n",
              "      <td>SM-G361F</td>\n",
              "      <td>1</td>\n",
              "    </tr>\n",
              "    <tr>\n",
              "      <th>...</th>\n",
              "      <td>...</td>\n",
              "      <td>...</td>\n",
              "      <td>...</td>\n",
              "      <td>...</td>\n",
              "      <td>...</td>\n",
              "      <td>...</td>\n",
              "      <td>...</td>\n",
              "      <td>...</td>\n",
              "    </tr>\n",
              "    <tr>\n",
              "      <th>23043</th>\n",
              "      <td>198.59</td>\n",
              "      <td>90.49</td>\n",
              "      <td>5191.12</td>\n",
              "      <td>28953</td>\n",
              "      <td>android</td>\n",
              "      <td>6.0</td>\n",
              "      <td>SM-G900F</td>\n",
              "      <td>1</td>\n",
              "    </tr>\n",
              "    <tr>\n",
              "      <th>23044</th>\n",
              "      <td>198.59</td>\n",
              "      <td>90.49</td>\n",
              "      <td>3114.67</td>\n",
              "      <td>28953</td>\n",
              "      <td>android</td>\n",
              "      <td>6.0</td>\n",
              "      <td>SM-G900F</td>\n",
              "      <td>1</td>\n",
              "    </tr>\n",
              "    <tr>\n",
              "      <th>23046</th>\n",
              "      <td>106.65</td>\n",
              "      <td>82.13</td>\n",
              "      <td>5191.12</td>\n",
              "      <td>29454</td>\n",
              "      <td>android</td>\n",
              "      <td>6.0</td>\n",
              "      <td>Moto G (4)</td>\n",
              "      <td>1</td>\n",
              "    </tr>\n",
              "    <tr>\n",
              "      <th>23049</th>\n",
              "      <td>344.53</td>\n",
              "      <td>20.53</td>\n",
              "      <td>519.12</td>\n",
              "      <td>29725</td>\n",
              "      <td>android</td>\n",
              "      <td>6.0</td>\n",
              "      <td>SM-G900F</td>\n",
              "      <td>1</td>\n",
              "    </tr>\n",
              "    <tr>\n",
              "      <th>23053</th>\n",
              "      <td>42.75</td>\n",
              "      <td>46.83</td>\n",
              "      <td>5191.12</td>\n",
              "      <td>20257</td>\n",
              "      <td>android</td>\n",
              "      <td>5.1</td>\n",
              "      <td>Vodafone Smart ultra 6</td>\n",
              "      <td>1</td>\n",
              "    </tr>\n",
              "  </tbody>\n",
              "</table>\n",
              "<p>159 rows × 8 columns</p>\n",
              "</div>"
            ],
            "text/plain": [
              "        outgoing_mins_per_month  ...  use_type_id\n",
              "use_id                           ...             \n",
              "22787                     21.97  ...            1\n",
              "22788                   1710.08  ...            1\n",
              "22789                   1710.08  ...            1\n",
              "22790                     94.46  ...            1\n",
              "22792                     71.59  ...            1\n",
              "...                         ...  ...          ...\n",
              "23043                    198.59  ...            1\n",
              "23044                    198.59  ...            1\n",
              "23046                    106.65  ...            1\n",
              "23049                    344.53  ...            1\n",
              "23053                     42.75  ...            1\n",
              "\n",
              "[159 rows x 8 columns]"
            ]
          },
          "metadata": {
            "tags": []
          },
          "execution_count": 10
        }
      ]
    },
    {
      "cell_type": "code",
      "metadata": {
        "colab": {
          "base_uri": "https://localhost:8080/"
        },
        "id": "6XQg_k4U7oTU",
        "outputId": "92a5b076-4552-4bb2-fed7-e218ac811b89"
      },
      "source": [
        "merged.columns"
      ],
      "execution_count": 11,
      "outputs": [
        {
          "output_type": "execute_result",
          "data": {
            "text/plain": [
              "Index(['outgoing_mins_per_month', 'outgoing_sms_per_month', 'monthly_mb',\n",
              "       'user_id', 'platform', 'platform_version', 'device', 'use_type_id'],\n",
              "      dtype='object')"
            ]
          },
          "metadata": {
            "tags": []
          },
          "execution_count": 11
        }
      ]
    },
    {
      "cell_type": "markdown",
      "metadata": {
        "id": "xF15k5wVGquj"
      },
      "source": [
        "# **Question 2:**\r\n",
        "\r\n",
        "1. Engineer **1** feature that is going to add value to the dataset that resulted from the join in Question 1.\r\n",
        "2. State the name of the feature engineering approach technique you used.\r\n",
        "3. State how will this feature contribute to the dataset."
      ]
    },
    {
      "cell_type": "code",
      "metadata": {
        "id": "NG92ralmg0Mr"
      },
      "source": [
        "# feature name: platform\r\n",
        "#2.1\r\n",
        "mergedCopy = merged.copy()\r\n",
        "platform = mergedCopy[\"platform\"]\r\n",
        "one_hot_encoded = pd.get_dummies(platform)\r\n",
        "mergedData = mergedCopy.drop('platform',axis = 1).join(one_hot_encoded)\r\n",
        "mergedData\r\n",
        "#2.2 One Hot Encoding\r\n",
        "#2.3 It eases classification as it changes categorical data into numerical\r\n"
      ],
      "execution_count": null,
      "outputs": []
    }
  ]
}